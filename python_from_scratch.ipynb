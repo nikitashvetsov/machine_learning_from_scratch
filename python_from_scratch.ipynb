{
 "cells": [
  {
   "cell_type": "markdown",
   "metadata": {},
   "source": [
    "about Jupyter:\n",
    "\n",
    "1. Markdown, code\n",
    "2. порядок выполнения блоков\n",
    "3. переменные хранятся, пока не перезапустишьядро"
   ]
  },
  {
   "cell_type": "markdown",
   "metadata": {},
   "source": [
    "about Python"
   ]
  },
  {
   "cell_type": "markdown",
   "metadata": {},
   "source": [
    "1. какие данные есть"
   ]
  },
  {
   "cell_type": "code",
   "execution_count": 1,
   "metadata": {},
   "outputs": [
    {
     "name": "stdout",
     "output_type": "stream",
     "text": [
      "0.5\n"
     ]
    }
   ],
   "source": [
    "# numbers\n",
    "number = 4\n",
    "number = 4.5\n",
    "number = 1/2\n",
    "print(number)"
   ]
  },
  {
   "cell_type": "code",
   "execution_count": 2,
   "metadata": {},
   "outputs": [
    {
     "name": "stdout",
     "output_type": "stream",
     "text": [
      "543\n"
     ]
    }
   ],
   "source": [
    "# strungs\n",
    "string = \"sdfg\"\n",
    "string = str(543)\n",
    "print(string)"
   ]
  },
  {
   "cell_type": "code",
   "execution_count": 8,
   "metadata": {},
   "outputs": [],
   "source": [
    "# str = 4 #  называй переменные как ключевые слова. смотри на подсветку. если зеленая - ключевое слово"
   ]
  },
  {
   "cell_type": "code",
   "execution_count": 5,
   "metadata": {},
   "outputs": [
    {
     "name": "stdout",
     "output_type": "stream",
     "text": [
      "False\n"
     ]
    }
   ],
   "source": [
    "boolean = True\n",
    "boolean = False\n",
    "boolean = 4==3\n",
    "print(boolean)"
   ]
  },
  {
   "cell_type": "code",
   "execution_count": 8,
   "metadata": {},
   "outputs": [
    {
     "name": "stdout",
     "output_type": "stream",
     "text": [
      "None\n"
     ]
    }
   ],
   "source": [
    "b = None\n",
    "print(b)"
   ]
  },
  {
   "cell_type": "markdown",
   "metadata": {},
   "source": [
    "2. где мы их можем хранить"
   ]
  },
  {
   "cell_type": "code",
   "execution_count": 12,
   "metadata": {},
   "outputs": [],
   "source": [
    "# list\n",
    "my_list = [1, \"fddg\", True]"
   ]
  },
  {
   "cell_type": "code",
   "execution_count": 18,
   "metadata": {},
   "outputs": [
    {
     "name": "stdout",
     "output_type": "stream",
     "text": [
      "[1, True]\n",
      "[True]\n"
     ]
    }
   ],
   "source": [
    "my_list = []\n",
    "my_list = list()\n",
    "my_list.append(1)\n",
    "my_list.append(True)\n",
    "print(my_list)\n",
    "my_list.index(1)\n",
    "my_list.remove(1)\n",
    "print(my_list)"
   ]
  },
  {
   "cell_type": "code",
   "execution_count": 24,
   "metadata": {},
   "outputs": [
    {
     "name": "stdout",
     "output_type": "stream",
     "text": [
      "{1: 'a', 2: 'b', 3: True, 'sffd': 'a'}\n",
      "{1: 'a', 2: 'b', 3: 90, 'sffd': 'a'}\n"
     ]
    }
   ],
   "source": [
    "# dict\n",
    "my_dict = {1:\"a\", 2:\"b\", 3:True, \"sffd\":\"a\"} # ключи - уникальны\n",
    "print(my_dict)\n",
    "my_dict = {1:\"a\", 2:\"b\", 3:True, \"sffd\":\"a\", 3:90}\n",
    "print(my_dict)"
   ]
  },
  {
   "cell_type": "code",
   "execution_count": 43,
   "metadata": {},
   "outputs": [
    {
     "name": "stdout",
     "output_type": "stream",
     "text": [
      "{1: 'a', 'sfd': 40}\n",
      "('sfd', 40)\n",
      "{1: 'a'}\n"
     ]
    }
   ],
   "source": [
    "my_dict = {}\n",
    "my_dict = dict()\n",
    "my_dict[1]=\"a\"\n",
    "my_dict[\"sfd\"] = 40\n",
    "print(my_dict)\n",
    "# print(my_dict.pop(1))\n",
    "print(my_dict.popitem())\n",
    "print(my_dict)"
   ]
  },
  {
   "cell_type": "code",
   "execution_count": 46,
   "metadata": {},
   "outputs": [
    {
     "name": "stdout",
     "output_type": "stream",
     "text": [
      "{3, 4, 5}\n",
      "{3, 5}\n",
      "{5}\n"
     ]
    }
   ],
   "source": [
    "# set\n",
    "my_set = set()\n",
    "my_set.add(4)\n",
    "my_set.add(5)\n",
    "my_set.add(4)\n",
    "my_set.add(3)\n",
    "print(my_set)\n",
    "my_set.remove(4)\n",
    "print(my_set)\n",
    "my_set.pop()\n",
    "print(my_set)"
   ]
  },
  {
   "cell_type": "code",
   "execution_count": 55,
   "metadata": {},
   "outputs": [
    {
     "data": {
      "text/plain": [
       "3"
      ]
     },
     "execution_count": 55,
     "metadata": {},
     "output_type": "execute_result"
    }
   ],
   "source": [
    "# tuple - неизменяемы лист\n",
    "my_tuple = (1,2,3,4,4,4,4)\n",
    "# my_tuple = tuple([1,2,3,4])\n",
    "# my_tuple.count(1)\n",
    "# my_tuple.count(4)\n",
    "# my_tuple.count(54)\n",
    "my_tuple.index(4)"
   ]
  },
  {
   "cell_type": "markdown",
   "metadata": {},
   "source": [
    "3. как мы можем их смотреть в контейнерах\n",
    "\n",
    "for object in conteiner"
   ]
  },
  {
   "cell_type": "code",
   "execution_count": 68,
   "metadata": {},
   "outputs": [
    {
     "name": "stdout",
     "output_type": "stream",
     "text": [
      "1\n",
      "sf\n",
      "(1, 2, 3, 4)\n",
      "list after\n",
      "[2, True]\n"
     ]
    }
   ],
   "source": [
    "my_list = [1,2,\"sf\", True, (1,2,3,4)]\n",
    "my_dict = {1:\"a\", 2:\"b\", 3:True, \"sffd\":\"a\", (1,2,3):\"s\"}\n",
    "my_tuple = (1,2,3,4,4,(\"sd\", 'sdf'),4)\n",
    "my_set = set([1,2,3,4,5,6,3,3,3,3,3])\n",
    "\n",
    "\n",
    "\n",
    "for i in my_list:\n",
    "    print(i)\n",
    "#     i = 1\n",
    "#     my_list.remove(i)\n",
    "    \n",
    "print(\"list after\")\n",
    "print(my_list)"
   ]
  }
 ],
 "metadata": {
  "kernelspec": {
   "display_name": "Python 3",
   "language": "python",
   "name": "python3"
  },
  "language_info": {
   "codemirror_mode": {
    "name": "ipython",
    "version": 3
   },
   "file_extension": ".py",
   "mimetype": "text/x-python",
   "name": "python",
   "nbconvert_exporter": "python",
   "pygments_lexer": "ipython3",
   "version": "3.7.1"
  }
 },
 "nbformat": 4,
 "nbformat_minor": 2
}
