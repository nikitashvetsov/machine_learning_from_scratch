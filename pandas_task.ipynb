{
 "cells": [
  {
   "cell_type": "code",
   "execution_count": null,
   "metadata": {},
   "outputs": [],
   "source": [
    "import pandas as pd"
   ]
  },
  {
   "cell_type": "markdown",
   "metadata": {},
   "source": [
    "https://www.kaggle.com/russellyates88/suicide-rates-overview-1985-to-2016\n",
    "\n",
    "# 1 скачать и загрузить данные"
   ]
  },
  {
   "cell_type": "code",
   "execution_count": null,
   "metadata": {},
   "outputs": [],
   "source": [
    "# your code here"
   ]
  },
  {
   "cell_type": "markdown",
   "metadata": {},
   "source": [
    "# 2  посмотреть общую информацию о данных"
   ]
  },
  {
   "cell_type": "markdown",
   "metadata": {},
   "source": [
    "# 3 перевести данные в более читаемый формат"
   ]
  },
  {
   "cell_type": "markdown",
   "metadata": {},
   "source": [
    "### 3.1  перевести gdp_for_year в числа из object \n",
    "\n",
    "(если не понимаешь, почему не получается работать с колонкой - подсказка 1 в файле)"
   ]
  },
  {
   "cell_type": "markdown",
   "metadata": {},
   "source": [
    "### 3.2  проверить, что country-year дублирует информцию. если да - удалить её\n",
    "\n",
    "один из возможных вариантов разделения текста и цифр - модуль re и функция groups тебе в помощь\n",
    "\n",
    "если не получается - подсказка 2"
   ]
  },
  {
   "cell_type": "markdown",
   "metadata": {},
   "source": [
    "### 3.3 проверить есть ли связь между возрастом и поколением\n",
    "\n",
    "если информация дублируется - удалить"
   ]
  },
  {
   "cell_type": "markdown",
   "metadata": {},
   "source": [
    "### 3.4 проверить, уникален ли год для страны. если нет - какие года есть"
   ]
  },
  {
   "cell_type": "markdown",
   "metadata": {},
   "source": [
    "# 4 анализ"
   ]
  },
  {
   "cell_type": "markdown",
   "metadata": {},
   "source": [
    "### 4.1 посчтать количество самоубийств по странам  годам\n",
    "\n",
    "то есть процент и количество человек умерло в стране независимо от возраста, пола, ...\n",
    "\n",
    "можешь где-то хранить (листы, словари, датафрейм), можешь просто распечатать"
   ]
  },
  {
   "cell_type": "markdown",
   "metadata": {},
   "source": [
    "### 4.2 Посчитать количество самоубийств по поколениям и возрасту, независимо от страны и года\n",
    "\n",
    "должены получится две одномерные матрицы и аналог двумерной матрицы. (количество самоубийств по возрастам, поколениям. и по возрастам и поколениям одновременно)"
   ]
  }
 ],
 "metadata": {
  "kernelspec": {
   "display_name": "Python 3",
   "language": "python",
   "name": "python3"
  },
  "language_info": {
   "codemirror_mode": {
    "name": "ipython",
    "version": 3
   },
   "file_extension": ".py",
   "mimetype": "text/x-python",
   "name": "python",
   "nbconvert_exporter": "python",
   "pygments_lexer": "ipython3",
   "version": "3.7.1"
  }
 },
 "nbformat": 4,
 "nbformat_minor": 2
}
