{
 "cells": [
  {
   "cell_type": "code",
   "execution_count": null,
   "metadata": {},
   "outputs": [],
   "source": [
    "from sklearn import datasets\n",
    "import matplotlib.pyplot as plt\n",
    "import numpy as np"
   ]
  },
  {
   "cell_type": "code",
   "execution_count": null,
   "metadata": {},
   "outputs": [],
   "source": [
    "iris = datasets.load_iris()"
   ]
  },
  {
   "cell_type": "code",
   "execution_count": null,
   "metadata": {},
   "outputs": [],
   "source": [
    "iris.feature_names, iris.target_names"
   ]
  },
  {
   "cell_type": "code",
   "execution_count": null,
   "metadata": {},
   "outputs": [],
   "source": [
    "plt.plot(iris.data[:, 0], iris.data[:, 1], \".\")\n",
    "plt.show()\n",
    "plt.plot(iris.data[:, 0], iris.data[:, 2], \".\")\n",
    "plt.show()\n",
    "plt.plot(iris.data[:, 0], iris.data[:, 3], \".\")\n",
    "plt.show()"
   ]
  },
  {
   "cell_type": "code",
   "execution_count": null,
   "metadata": {},
   "outputs": [],
   "source": [
    "plt.plot(iris.data[:, 1], iris.data[:, 0], \".\")\n",
    "plt.show()\n",
    "plt.plot(iris.data[:, 1], iris.data[:, 2], \".\")\n",
    "plt.show()\n",
    "plt.plot(iris.data[:, 1], iris.data[:, 3], \".\")\n",
    "plt.show()"
   ]
  },
  {
   "cell_type": "code",
   "execution_count": null,
   "metadata": {},
   "outputs": [],
   "source": [
    "plt.plot(iris.data[:, 2], iris.data[:, 0], \".\")\n",
    "plt.show()\n",
    "plt.plot(iris.data[:, 2], iris.data[:, 1], \".\")\n",
    "plt.show()\n",
    "plt.plot(iris.data[:, 2], iris.data[:, 3], \".\")\n",
    "plt.show()"
   ]
  },
  {
   "cell_type": "markdown",
   "metadata": {},
   "source": [
    "будем предсказывать 'petal width (cm)' по 'petal length (cm)'"
   ]
  },
  {
   "cell_type": "markdown",
   "metadata": {},
   "source": [
    "$loss = (y-(wx+b))^2$\n",
    "\n",
    "$loss'_w = 2*(y-(wx+b))*-x$\n",
    "\n",
    "$loss'_b = 2*(y-(wx+b))*-1$\n",
    "\n",
    "$w_{new} = w_{old} + 2x*(y-wx-b)$\n",
    "\n",
    "$b_{new} = b_{old} + 2*(y-wx-b)$"
   ]
  },
  {
   "cell_type": "code",
   "execution_count": null,
   "metadata": {},
   "outputs": [],
   "source": [
    "X = iris.data[:, 2]\n",
    "Y = iris.data[:, 3]"
   ]
  },
  {
   "cell_type": "code",
   "execution_count": null,
   "metadata": {},
   "outputs": [],
   "source": [
    "w = 1\n",
    "b = 0\n",
    "print(w, b)\n",
    "plt.plot(X, Y, \".\")\n",
    "plt.plot([0, 7], [w*0+b, w*7+b], c = 'r')\n",
    "plt.show()\n",
    "\n",
    "iter_ = 0\n",
    "grad_w = 100\n",
    "grad_b = 100\n",
    "while np.linalg.norm(grad_w) + np.abs(grad_b) < 0.01 or iter_ < 5:\n",
    "    iter_ += 1\n",
    "    grad_w = np.mean(-2*X*(Y-X*w-b)) + 2*w\n",
    "    grad_b = np.mean(-2*(Y-X*w-b)) + 2*b\n",
    "    w = w - 0.01*grad_w\n",
    "    b = b - 0.01*grad_b\n",
    "    print(\"iter: {}\".format(iter_))\n",
    "    print(\"w: {}, b: {}\".format(w, b))\n",
    "    plt.plot(X, Y, \".\")\n",
    "    plt.plot([0, 7], [w*0+b, w*7+b], c = 'r')\n",
    "    plt.show()"
   ]
  }
 ],
 "metadata": {
  "kernelspec": {
   "display_name": "conda base",
   "language": "python",
   "name": "myenv"
  },
  "language_info": {
   "codemirror_mode": {
    "name": "ipython",
    "version": 3
   },
   "file_extension": ".py",
   "mimetype": "text/x-python",
   "name": "python",
   "nbconvert_exporter": "python",
   "pygments_lexer": "ipython3",
   "version": "3.7.2"
  }
 },
 "nbformat": 4,
 "nbformat_minor": 2
}
