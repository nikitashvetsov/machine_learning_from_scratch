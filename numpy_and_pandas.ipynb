{
 "cells": [
  {
   "cell_type": "markdown",
   "metadata": {},
   "source": [
    "# Numpy\n",
    "\n",
    "для матричных вычислений\n",
    "\n",
    "Python Numpy Tutorial\n",
    "http://cs231n.github.io/python-numpy-tutorial/"
   ]
  },
  {
   "cell_type": "code",
   "execution_count": 1,
   "metadata": {},
   "outputs": [],
   "source": [
    "import numpy as np"
   ]
  },
  {
   "cell_type": "code",
   "execution_count": null,
   "metadata": {},
   "outputs": [],
   "source": [
    "array = np.array([1,2,4,5])\n",
    "print(array)\n",
    "print(\"shape: {}\".format(array.shape))"
   ]
  },
  {
   "cell_type": "markdown",
   "metadata": {},
   "source": [
    "всё нумеруется с нуля"
   ]
  },
  {
   "cell_type": "code",
   "execution_count": null,
   "metadata": {},
   "outputs": [],
   "source": [
    "print(array[0], array[1], array[2])\n",
    "print(array[:3])\n"
   ]
  },
  {
   "cell_type": "code",
   "execution_count": null,
   "metadata": {},
   "outputs": [],
   "source": [
    "b = np.array([[1,2,3],[4,5,6]])\n",
    "print(b)\n",
    "print(\"shape: {}\".format(b.shape))                \n",
    "print(\"work with indecies:\", b[0], b[0, 1], b[:, 0]) \n",
    "print(\"slicing: {}\".format(b[0, :2]))"
   ]
  },
  {
   "cell_type": "markdown",
   "metadata": {},
   "source": [
    "создание спецефичных матриц"
   ]
  },
  {
   "cell_type": "code",
   "execution_count": null,
   "metadata": {},
   "outputs": [],
   "source": [
    "a = np.zeros((2,2))\n",
    "print(a)\n",
    "\n",
    "b = np.ones((1,2))\n",
    "print(b) "
   ]
  },
  {
   "cell_type": "markdown",
   "metadata": {},
   "source": [
    "# Pandas\n",
    "\n",
    "для работы с табличными данными\n",
    "\n",
    "http://pandas.pydata.org/pandas-docs/stable/getting_started/10min.html"
   ]
  },
  {
   "cell_type": "code",
   "execution_count": 2,
   "metadata": {},
   "outputs": [],
   "source": [
    "import pandas as pd"
   ]
  },
  {
   "cell_type": "code",
   "execution_count": 3,
   "metadata": {},
   "outputs": [
    {
     "name": "stderr",
     "output_type": "stream",
     "text": [
      "b'Skipping line 846: expected 10 fields, saw 11\\nSkipping line 848: expected 10 fields, saw 11\\nSkipping line 1689: expected 10 fields, saw 11\\nSkipping line 2312: expected 10 fields, saw 11\\nSkipping line 3669: expected 10 fields, saw 11\\nSkipping line 7125: expected 10 fields, saw 11\\nSkipping line 7189: expected 10 fields, saw 11\\nSkipping line 8553: expected 10 fields, saw 11\\nSkipping line 8835: expected 10 fields, saw 11\\nSkipping line 9282: expected 10 fields, saw 11\\nSkipping line 15393: expected 10 fields, saw 11\\nSkipping line 15550: expected 10 fields, saw 11\\nSkipping line 15679: expected 10 fields, saw 11\\nSkipping line 15686: expected 10 fields, saw 11\\nSkipping line 15982: expected 10 fields, saw 11\\nSkipping line 15995: expected 10 fields, saw 11\\nSkipping line 16356: expected 10 fields, saw 11\\nSkipping line 16827: expected 10 fields, saw 11\\nSkipping line 16887: expected 10 fields, saw 11\\nSkipping line 17019: expected 10 fields, saw 11\\nSkipping line 19532: expected 10 fields, saw 11\\nSkipping line 19982: expected 10 fields, saw 11\\nSkipping line 20158: expected 10 fields, saw 11\\nSkipping line 20410: expected 10 fields, saw 11\\nSkipping line 20863: expected 10 fields, saw 11\\nSkipping line 22049: expected 10 fields, saw 11\\nSkipping line 22120: expected 10 fields, saw 11\\nSkipping line 22985: expected 10 fields, saw 11\\nSkipping line 23013: expected 10 fields, saw 11\\nSkipping line 24121: expected 10 fields, saw 11\\nSkipping line 27361: expected 10 fields, saw 11\\nSkipping line 28635: expected 10 fields, saw 11\\nSkipping line 29537: expected 10 fields, saw 11\\nSkipping line 29572: expected 10 fields, saw 11\\nSkipping line 29891: expected 10 fields, saw 11\\nSkipping line 30075: expected 10 fields, saw 11\\nSkipping line 30616: expected 10 fields, saw 11\\nSkipping line 30884: expected 10 fields, saw 11\\nSkipping line 31221: expected 10 fields, saw 11\\nSkipping line 31758: expected 10 fields, saw 11\\nSkipping line 31796: expected 10 fields, saw 11\\nSkipping line 33074: expected 10 fields, saw 11\\nSkipping line 33635: expected 10 fields, saw 11\\nSkipping line 34131: expected 10 fields, saw 11\\nSkipping line 34992: expected 10 fields, saw 11\\nSkipping line 35416: expected 10 fields, saw 11\\nSkipping line 37229: expected 10 fields, saw 11\\nSkipping line 37330: expected 10 fields, saw 11\\nSkipping line 41513: expected 10 fields, saw 11\\nSkipping line 41691: expected 10 fields, saw 11\\nSkipping line 41969: expected 10 fields, saw 11\\nSkipping line 42481: expected 10 fields, saw 11\\nSkipping line 46701: expected 10 fields, saw 11\\nSkipping line 56410: expected 10 fields, saw 11\\nSkipping line 61596: expected 10 fields, saw 11\\n'\n",
      "b'Skipping line 67257: expected 10 fields, saw 11\\nSkipping line 67339: expected 10 fields, saw 11\\nSkipping line 67455: expected 10 fields, saw 11\\nSkipping line 67923: expected 10 fields, saw 11\\nSkipping line 67979: expected 10 fields, saw 11\\nSkipping line 68072: expected 10 fields, saw 11\\nSkipping line 68338: expected 10 fields, saw 11\\nSkipping line 68536: expected 10 fields, saw 11\\nSkipping line 69150: expected 10 fields, saw 11\\nSkipping line 69222: expected 10 fields, saw 11\\nSkipping line 69486: expected 10 fields, saw 11\\nSkipping line 70007: expected 10 fields, saw 11\\nSkipping line 70018: expected 10 fields, saw 11\\nSkipping line 70035: expected 10 fields, saw 11\\nSkipping line 70725: expected 10 fields, saw 11\\nSkipping line 70943: expected 10 fields, saw 11\\nSkipping line 75622: expected 10 fields, saw 11\\nSkipping line 77673: expected 10 fields, saw 11\\nSkipping line 78023: expected 10 fields, saw 11\\nSkipping line 78790: expected 10 fields, saw 11\\nSkipping line 84007: expected 10 fields, saw 11\\nSkipping line 90892: expected 10 fields, saw 11\\nSkipping line 92350: expected 10 fields, saw 11\\nSkipping line 95543: expected 10 fields, saw 11\\nSkipping line 96156: expected 10 fields, saw 11\\nSkipping line 96491: expected 10 fields, saw 11\\nSkipping line 97782: expected 10 fields, saw 11\\nSkipping line 99569: expected 10 fields, saw 11\\nSkipping line 99869: expected 10 fields, saw 11\\nSkipping line 100277: expected 10 fields, saw 11\\nSkipping line 101742: expected 10 fields, saw 11\\nSkipping line 103157: expected 10 fields, saw 11\\nSkipping line 103203: expected 10 fields, saw 11\\nSkipping line 114052: expected 10 fields, saw 11\\nSkipping line 117548: expected 10 fields, saw 11\\nSkipping line 118064: expected 10 fields, saw 11\\nSkipping line 118117: expected 10 fields, saw 11\\nSkipping line 118397: expected 10 fields, saw 11\\nSkipping line 119081: expected 10 fields, saw 11\\nSkipping line 120711: expected 10 fields, saw 11\\nSkipping line 121141: expected 10 fields, saw 11\\nSkipping line 121184: expected 10 fields, saw 11\\nSkipping line 121335: expected 10 fields, saw 11\\nSkipping line 122655: expected 10 fields, saw 11\\nSkipping line 122712: expected 10 fields, saw 11\\nSkipping line 122784: expected 10 fields, saw 11\\nSkipping line 124809: expected 10 fields, saw 11\\nSkipping line 131001: expected 10 fields, saw 11\\n'\n",
      "b'Skipping line 134849: expected 10 fields, saw 11\\nSkipping line 135406: expected 10 fields, saw 11\\nSkipping line 136287: expected 10 fields, saw 11\\nSkipping line 136746: expected 10 fields, saw 11\\nSkipping line 136754: expected 10 fields, saw 11\\nSkipping line 137017: expected 10 fields, saw 11\\nSkipping line 137286: expected 10 fields, saw 11\\nSkipping line 137405: expected 10 fields, saw 11\\nSkipping line 138152: expected 10 fields, saw 11\\nSkipping line 138777: expected 10 fields, saw 11\\nSkipping line 138779: expected 10 fields, saw 11\\nSkipping line 138852: expected 10 fields, saw 11\\nSkipping line 139032: expected 10 fields, saw 11\\nSkipping line 139237: expected 10 fields, saw 11\\nSkipping line 139844: expected 10 fields, saw 11\\nSkipping line 140124: expected 10 fields, saw 11\\nSkipping line 140610: expected 10 fields, saw 11\\nSkipping line 143147: expected 10 fields, saw 11\\nSkipping line 143367: expected 10 fields, saw 11\\nSkipping line 143627: expected 10 fields, saw 11\\nSkipping line 143783: expected 10 fields, saw 11\\nSkipping line 143919: expected 10 fields, saw 11\\nSkipping line 143994: expected 10 fields, saw 11\\nSkipping line 144371: expected 10 fields, saw 11\\nSkipping line 145303: expected 10 fields, saw 11\\nSkipping line 145417: expected 10 fields, saw 11\\nSkipping line 145980: expected 10 fields, saw 11\\nSkipping line 147243: expected 10 fields, saw 11\\nSkipping line 147679: expected 10 fields, saw 11\\nSkipping line 147856: expected 10 fields, saw 11\\nSkipping line 148388: expected 10 fields, saw 11\\nSkipping line 148652: expected 10 fields, saw 11\\nSkipping line 149161: expected 10 fields, saw 11\\nSkipping line 149244: expected 10 fields, saw 11\\nSkipping line 149721: expected 10 fields, saw 11\\nSkipping line 149854: expected 10 fields, saw 11\\nSkipping line 150145: expected 10 fields, saw 11\\nSkipping line 150578: expected 10 fields, saw 11\\nSkipping line 150725: expected 10 fields, saw 11\\nSkipping line 150769: expected 10 fields, saw 11\\nSkipping line 150985: expected 10 fields, saw 11\\nSkipping line 157374: expected 10 fields, saw 11\\nSkipping line 157970: expected 10 fields, saw 11\\nSkipping line 168308: expected 10 fields, saw 11\\nSkipping line 169077: expected 10 fields, saw 11\\nSkipping line 169081: expected 10 fields, saw 11\\nSkipping line 169230: expected 10 fields, saw 11\\nSkipping line 169757: expected 10 fields, saw 11\\nSkipping line 169781: expected 10 fields, saw 11\\nSkipping line 170331: expected 10 fields, saw 11\\nSkipping line 170762: expected 10 fields, saw 11\\nSkipping line 171034: expected 10 fields, saw 11\\nSkipping line 171973: expected 10 fields, saw 11\\nSkipping line 173346: expected 10 fields, saw 11\\nSkipping line 173439: expected 10 fields, saw 11\\nSkipping line 174047: expected 10 fields, saw 11\\nSkipping line 178296: expected 10 fields, saw 11\\nSkipping line 178500: expected 10 fields, saw 11\\nSkipping line 181182: expected 10 fields, saw 11\\nSkipping line 181279: expected 10 fields, saw 11\\nSkipping line 184327: expected 10 fields, saw 11\\nSkipping line 184552: expected 10 fields, saw 11\\nSkipping line 185137: expected 10 fields, saw 11\\nSkipping line 186174: expected 10 fields, saw 11\\nSkipping line 186393: expected 10 fields, saw 11\\nSkipping line 186663: expected 10 fields, saw 11\\nSkipping line 186668: expected 10 fields, saw 11\\nSkipping line 186682: expected 10 fields, saw 11\\nSkipping line 187870: expected 10 fields, saw 11\\nSkipping line 189691: expected 10 fields, saw 11\\nSkipping line 190101: expected 10 fields, saw 11\\nSkipping line 190503: expected 10 fields, saw 11\\n'\n",
      "b'Skipping line 204578: expected 10 fields, saw 11\\nSkipping line 204684: expected 10 fields, saw 11\\nSkipping line 204932: expected 10 fields, saw 11\\nSkipping line 205085: expected 10 fields, saw 11\\nSkipping line 206320: expected 10 fields, saw 11\\nSkipping line 207886: expected 10 fields, saw 11\\nSkipping line 211998: expected 10 fields, saw 11\\nSkipping line 212162: expected 10 fields, saw 11\\nSkipping line 212492: expected 10 fields, saw 11\\nSkipping line 212833: expected 10 fields, saw 11\\nSkipping line 212965: expected 10 fields, saw 11\\nSkipping line 213246: expected 10 fields, saw 11\\nSkipping line 214472: expected 10 fields, saw 11\\nSkipping line 214712: expected 10 fields, saw 11\\nSkipping line 214717: expected 10 fields, saw 11\\nSkipping line 215068: expected 10 fields, saw 11\\nSkipping line 218341: expected 10 fields, saw 11\\nSkipping line 218511: expected 10 fields, saw 11\\nSkipping line 218515: expected 10 fields, saw 11\\nSkipping line 219136: expected 10 fields, saw 11\\nSkipping line 219245: expected 10 fields, saw 11\\nSkipping line 220171: expected 10 fields, saw 11\\nSkipping line 221608: expected 10 fields, saw 11\\nSkipping line 221715: expected 10 fields, saw 11\\nSkipping line 222308: expected 10 fields, saw 11\\nSkipping line 222658: expected 10 fields, saw 11\\nSkipping line 222885: expected 10 fields, saw 11\\nSkipping line 222959: expected 10 fields, saw 11\\nSkipping line 225444: expected 10 fields, saw 11\\nSkipping line 225736: expected 10 fields, saw 11\\nSkipping line 228370: expected 10 fields, saw 11\\nSkipping line 228998: expected 10 fields, saw 11\\nSkipping line 229104: expected 10 fields, saw 11\\nSkipping line 231843: expected 10 fields, saw 11\\nSkipping line 234102: expected 10 fields, saw 11\\nSkipping line 234403: expected 10 fields, saw 11\\nSkipping line 234811: expected 10 fields, saw 11\\nSkipping line 234812: expected 10 fields, saw 11\\nSkipping line 235055: expected 10 fields, saw 11\\nSkipping line 235181: expected 10 fields, saw 11\\nSkipping line 235217: expected 10 fields, saw 11\\nSkipping line 235501: expected 10 fields, saw 11\\nSkipping line 237493: expected 10 fields, saw 11\\nSkipping line 237496: expected 10 fields, saw 11\\nSkipping line 238670: expected 10 fields, saw 11\\nSkipping line 240942: expected 10 fields, saw 11\\nSkipping line 244890: expected 10 fields, saw 11\\nSkipping line 245342: expected 10 fields, saw 11\\nSkipping line 245399: expected 10 fields, saw 11\\nSkipping line 248001: expected 10 fields, saw 11\\nSkipping line 248116: expected 10 fields, saw 11\\nSkipping line 248280: expected 10 fields, saw 11\\nSkipping line 249097: expected 10 fields, saw 11\\nSkipping line 249151: expected 10 fields, saw 11\\nSkipping line 249252: expected 10 fields, saw 11\\nSkipping line 251684: expected 10 fields, saw 11\\nSkipping line 252123: expected 10 fields, saw 11\\nSkipping line 252943: expected 10 fields, saw 11\\nSkipping line 253087: expected 10 fields, saw 11\\nSkipping line 253267: expected 10 fields, saw 11\\nSkipping line 253553: expected 10 fields, saw 11\\nSkipping line 254876: expected 10 fields, saw 11\\nSkipping line 256139: expected 10 fields, saw 11\\nSkipping line 258163: expected 10 fields, saw 11\\nSkipping line 258684: expected 10 fields, saw 11\\nSkipping line 259700: expected 10 fields, saw 11\\n'\n"
     ]
    },
    {
     "name": "stderr",
     "output_type": "stream",
     "text": [
      "b'Skipping line 264537: expected 10 fields, saw 11\\nSkipping line 265654: expected 10 fields, saw 11\\nSkipping line 266770: expected 10 fields, saw 11\\nSkipping line 267266: expected 10 fields, saw 11\\nSkipping line 267700: expected 10 fields, saw 11\\nSkipping line 267844: expected 10 fields, saw 11\\nSkipping line 268160: expected 10 fields, saw 11\\nSkipping line 270347: expected 10 fields, saw 11\\nSkipping line 270503: expected 10 fields, saw 11\\nSkipping line 270894: expected 10 fields, saw 11\\nSkipping line 271639: expected 10 fields, saw 11\\nSkipping line 271745: expected 10 fields, saw 11\\nSkipping line 271767: expected 10 fields, saw 11\\nSkipping line 271985: expected 10 fields, saw 11\\nSkipping line 272041: expected 10 fields, saw 11\\nSkipping line 273088: expected 10 fields, saw 11\\nSkipping line 274335: expected 10 fields, saw 11\\nSkipping line 275910: expected 10 fields, saw 11\\nSkipping line 276435: expected 10 fields, saw 11\\nSkipping line 278201: expected 10 fields, saw 11\\nSkipping line 279395: expected 10 fields, saw 11\\nSkipping line 284865: expected 10 fields, saw 11\\nSkipping line 287868: expected 10 fields, saw 11\\nSkipping line 288060: expected 10 fields, saw 11\\nSkipping line 290103: expected 10 fields, saw 11\\nSkipping line 290988: expected 10 fields, saw 11\\nSkipping line 300960: expected 10 fields, saw 11\\nSkipping line 301083: expected 10 fields, saw 11\\nSkipping line 301102: expected 10 fields, saw 11\\nSkipping line 301221: expected 10 fields, saw 11\\nSkipping line 305692: expected 10 fields, saw 11\\nSkipping line 305742: expected 10 fields, saw 11\\nSkipping line 305881: expected 10 fields, saw 11\\nSkipping line 305994: expected 10 fields, saw 11\\nSkipping line 306253: expected 10 fields, saw 11\\nSkipping line 306580: expected 10 fields, saw 11\\nSkipping line 309141: expected 10 fields, saw 11\\nSkipping line 309166: expected 10 fields, saw 11\\nSkipping line 309206: expected 10 fields, saw 11\\nSkipping line 310148: expected 10 fields, saw 11\\nSkipping line 313403: expected 10 fields, saw 11\\nSkipping line 317915: expected 10 fields, saw 11\\nSkipping line 322886: expected 10 fields, saw 11\\nSkipping line 323146: expected 10 fields, saw 11\\nSkipping line 325088: expected 10 fields, saw 11\\nSkipping line 325385: expected 10 fields, saw 11\\nSkipping line 325559: expected 10 fields, saw 11\\nSkipping line 326020: expected 10 fields, saw 11\\n'\n",
      "b'Skipping line 329126: expected 10 fields, saw 11\\nSkipping line 329164: expected 10 fields, saw 11\\nSkipping line 329231: expected 10 fields, saw 11\\nSkipping line 329300: expected 10 fields, saw 11\\nSkipping line 330436: expected 10 fields, saw 11\\nSkipping line 330698: expected 10 fields, saw 11\\nSkipping line 331101: expected 10 fields, saw 11\\nSkipping line 331141: expected 10 fields, saw 11\\nSkipping line 331381: expected 10 fields, saw 11\\nSkipping line 331468: expected 10 fields, saw 11\\nSkipping line 331801: expected 10 fields, saw 11\\nSkipping line 332393: expected 10 fields, saw 11\\nSkipping line 332576: expected 10 fields, saw 11\\nSkipping line 332675: expected 10 fields, saw 11\\nSkipping line 332993: expected 10 fields, saw 11\\nSkipping line 333269: expected 10 fields, saw 11\\nSkipping line 333496: expected 10 fields, saw 11\\nSkipping line 333784: expected 10 fields, saw 11\\nSkipping line 334400: expected 10 fields, saw 11\\nSkipping line 334481: expected 10 fields, saw 11\\nSkipping line 337506: expected 10 fields, saw 11\\nSkipping line 337863: expected 10 fields, saw 11\\nSkipping line 337901: expected 10 fields, saw 11\\nSkipping line 338133: expected 10 fields, saw 11\\nSkipping line 338182: expected 10 fields, saw 11\\nSkipping line 338599: expected 10 fields, saw 11\\nSkipping line 338643: expected 10 fields, saw 11\\nSkipping line 338730: expected 10 fields, saw 11\\nSkipping line 338903: expected 10 fields, saw 11\\nSkipping line 339037: expected 10 fields, saw 11\\nSkipping line 339209: expected 10 fields, saw 11\\nSkipping line 341346: expected 10 fields, saw 11\\nSkipping line 342714: expected 10 fields, saw 11\\nSkipping line 343094: expected 10 fields, saw 11\\nSkipping line 343701: expected 10 fields, saw 11\\nSkipping line 344402: expected 10 fields, saw 11\\nSkipping line 344506: expected 10 fields, saw 11\\nSkipping line 344946: expected 10 fields, saw 11\\nSkipping line 345146: expected 10 fields, saw 11\\nSkipping line 345643: expected 10 fields, saw 11\\nSkipping line 346217: expected 10 fields, saw 11\\nSkipping line 346264: expected 10 fields, saw 11\\nSkipping line 346430: expected 10 fields, saw 11\\nSkipping line 346506: expected 10 fields, saw 11\\nSkipping line 346679: expected 10 fields, saw 11\\nSkipping line 349176: expected 10 fields, saw 11\\nSkipping line 349814: expected 10 fields, saw 11\\nSkipping line 351648: expected 10 fields, saw 11\\nSkipping line 355187: expected 10 fields, saw 11\\nSkipping line 355389: expected 10 fields, saw 11\\nSkipping line 355624: expected 10 fields, saw 11\\nSkipping line 355631: expected 10 fields, saw 11\\nSkipping line 355836: expected 10 fields, saw 11\\nSkipping line 356651: expected 10 fields, saw 11\\nSkipping line 357731: expected 10 fields, saw 11\\nSkipping line 358485: expected 10 fields, saw 11\\nSkipping line 358748: expected 10 fields, saw 11\\nSkipping line 358943: expected 10 fields, saw 11\\nSkipping line 359514: expected 10 fields, saw 11\\nSkipping line 360304: expected 10 fields, saw 11\\nSkipping line 360496: expected 10 fields, saw 11\\nSkipping line 360590: expected 10 fields, saw 11\\nSkipping line 361543: expected 10 fields, saw 11\\nSkipping line 361717: expected 10 fields, saw 11\\nSkipping line 361884: expected 10 fields, saw 11\\nSkipping line 362021: expected 10 fields, saw 11\\nSkipping line 363650: expected 10 fields, saw 11\\nSkipping line 365074: expected 10 fields, saw 11\\nSkipping line 365817: expected 10 fields, saw 11\\nSkipping line 367786: expected 10 fields, saw 11\\nSkipping line 367946: expected 10 fields, saw 11\\nSkipping line 368033: expected 10 fields, saw 11\\nSkipping line 368362: expected 10 fields, saw 11\\nSkipping line 369224: expected 10 fields, saw 11\\nSkipping line 370631: expected 10 fields, saw 11\\nSkipping line 371149: expected 10 fields, saw 11\\nSkipping line 371447: expected 10 fields, saw 11\\nSkipping line 371770: expected 10 fields, saw 11\\nSkipping line 373920: expected 10 fields, saw 11\\nSkipping line 374350: expected 10 fields, saw 11\\nSkipping line 374403: expected 10 fields, saw 11\\nSkipping line 374594: expected 10 fields, saw 11\\nSkipping line 374731: expected 10 fields, saw 11\\nSkipping line 374737: expected 10 fields, saw 11\\nSkipping line 379380: expected 10 fields, saw 11\\nSkipping line 379476: expected 10 fields, saw 11\\nSkipping line 379760: expected 10 fields, saw 11\\nSkipping line 383275: expected 10 fields, saw 11\\nSkipping line 383839: expected 10 fields, saw 11\\nSkipping line 384045: expected 10 fields, saw 11\\nSkipping line 384108: expected 10 fields, saw 11\\nSkipping line 384169: expected 10 fields, saw 11\\nSkipping line 384329: expected 10 fields, saw 11\\nSkipping line 384409: expected 10 fields, saw 11\\nSkipping line 386257: expected 10 fields, saw 11\\nSkipping line 386834: expected 10 fields, saw 11\\nSkipping line 386930: expected 10 fields, saw 11\\nSkipping line 387803: expected 10 fields, saw 11\\nSkipping line 388008: expected 10 fields, saw 11\\nSkipping line 388749: expected 10 fields, saw 11\\nSkipping line 388980: expected 10 fields, saw 11\\nSkipping line 389249: expected 10 fields, saw 11\\nSkipping line 393604: expected 10 fields, saw 11\\n'\n",
      "b'Skipping line 396225: expected 10 fields, saw 11\\nSkipping line 397219: expected 10 fields, saw 11\\nSkipping line 397379: expected 10 fields, saw 11\\nSkipping line 401800: expected 10 fields, saw 11\\nSkipping line 401811: expected 10 fields, saw 11\\nSkipping line 402217: expected 10 fields, saw 11\\nSkipping line 402297: expected 10 fields, saw 11\\nSkipping line 410313: expected 10 fields, saw 11\\nSkipping line 413369: expected 10 fields, saw 11\\nSkipping line 413883: expected 10 fields, saw 11\\nSkipping line 418320: expected 10 fields, saw 11\\nSkipping line 421488: expected 10 fields, saw 11\\nSkipping line 421676: expected 10 fields, saw 11\\nSkipping line 422413: expected 10 fields, saw 11\\nSkipping line 423578: expected 10 fields, saw 11\\nSkipping line 424121: expected 10 fields, saw 11\\nSkipping line 424173: expected 10 fields, saw 11\\nSkipping line 425579: expected 10 fields, saw 11\\nSkipping line 431685: expected 10 fields, saw 11\\nSkipping line 435644: expected 10 fields, saw 11\\nSkipping line 436179: expected 10 fields, saw 11\\nSkipping line 436222: expected 10 fields, saw 11\\nSkipping line 436360: expected 10 fields, saw 11\\nSkipping line 437599: expected 10 fields, saw 11\\nSkipping line 438750: expected 10 fields, saw 11\\nSkipping line 439158: expected 10 fields, saw 11\\nSkipping line 439686: expected 10 fields, saw 11\\nSkipping line 440611: expected 10 fields, saw 11\\nSkipping line 444556: expected 10 fields, saw 11\\nSkipping line 445017: expected 10 fields, saw 11\\nSkipping line 445375: expected 10 fields, saw 11\\nSkipping line 447140: expected 10 fields, saw 11\\nSkipping line 447823: expected 10 fields, saw 11\\nSkipping line 448256: expected 10 fields, saw 11\\nSkipping line 448309: expected 10 fields, saw 11\\nSkipping line 448447: expected 10 fields, saw 11\\nSkipping line 449287: expected 10 fields, saw 11\\nSkipping line 450095: expected 10 fields, saw 11\\nSkipping line 450203: expected 10 fields, saw 11\\nSkipping line 450391: expected 10 fields, saw 11\\nSkipping line 451101: expected 10 fields, saw 11\\nSkipping line 453819: expected 10 fields, saw 11\\nSkipping line 454375: expected 10 fields, saw 11\\nSkipping line 455338: expected 10 fields, saw 11\\nSkipping line 456172: expected 10 fields, saw 11\\nSkipping line 456632: expected 10 fields, saw 11\\nSkipping line 456915: expected 10 fields, saw 11\\nSkipping line 456956: expected 10 fields, saw 11\\nSkipping line 458226: expected 10 fields, saw 11\\nSkipping line 458710: expected 10 fields, saw 11\\n'\n",
      "b'Skipping line 460867: expected 10 fields, saw 11\\nSkipping line 461915: expected 10 fields, saw 11\\nSkipping line 463462: expected 10 fields, saw 11\\nSkipping line 464605: expected 10 fields, saw 11\\nSkipping line 464828: expected 10 fields, saw 11\\nSkipping line 466142: expected 10 fields, saw 11\\nSkipping line 466206: expected 10 fields, saw 11\\nSkipping line 466462: expected 10 fields, saw 11\\nSkipping line 466940: expected 10 fields, saw 11\\nSkipping line 467300: expected 10 fields, saw 11\\nSkipping line 468041: expected 10 fields, saw 11\\nSkipping line 468321: expected 10 fields, saw 11\\nSkipping line 468575: expected 10 fields, saw 11\\nSkipping line 469134: expected 10 fields, saw 11\\nSkipping line 469308: expected 10 fields, saw 11\\nSkipping line 469500: expected 10 fields, saw 11\\nSkipping line 471617: expected 10 fields, saw 11\\nSkipping line 474321: expected 10 fields, saw 11\\nSkipping line 474891: expected 10 fields, saw 11\\nSkipping line 475193: expected 10 fields, saw 11\\nSkipping line 475265: expected 10 fields, saw 11\\nSkipping line 476702: expected 10 fields, saw 11\\nSkipping line 477165: expected 10 fields, saw 11\\nSkipping line 478532: expected 10 fields, saw 11\\nSkipping line 478661: expected 10 fields, saw 11\\nSkipping line 478921: expected 10 fields, saw 11\\nSkipping line 484399: expected 10 fields, saw 11\\nSkipping line 485241: expected 10 fields, saw 11\\nSkipping line 485894: expected 10 fields, saw 11\\nSkipping line 487807: expected 10 fields, saw 11\\nSkipping line 488387: expected 10 fields, saw 11\\nSkipping line 490138: expected 10 fields, saw 11\\nSkipping line 490900: expected 10 fields, saw 11\\nSkipping line 490987: expected 10 fields, saw 11\\nSkipping line 493799: expected 10 fields, saw 11\\nSkipping line 497037: expected 10 fields, saw 11\\nSkipping line 497315: expected 10 fields, saw 11\\nSkipping line 498742: expected 10 fields, saw 11\\nSkipping line 498813: expected 10 fields, saw 11\\nSkipping line 499729: expected 10 fields, saw 11\\nSkipping line 500874: expected 10 fields, saw 11\\nSkipping line 501550: expected 10 fields, saw 11\\nSkipping line 502265: expected 10 fields, saw 11\\nSkipping line 502418: expected 10 fields, saw 11\\nSkipping line 505975: expected 10 fields, saw 11\\nSkipping line 507787: expected 10 fields, saw 11\\nSkipping line 511936: expected 10 fields, saw 11\\nSkipping line 512763: expected 10 fields, saw 11\\nSkipping line 513887: expected 10 fields, saw 11\\nSkipping line 515583: expected 10 fields, saw 11\\nSkipping line 515800: expected 10 fields, saw 11\\nSkipping line 516127: expected 10 fields, saw 11\\nSkipping line 516336: expected 10 fields, saw 11\\nSkipping line 517165: expected 10 fields, saw 11\\nSkipping line 519837: expected 10 fields, saw 11\\n'\n"
     ]
    },
    {
     "name": "stderr",
     "output_type": "stream",
     "text": [
      "b'Skipping line 527497: expected 10 fields, saw 11\\nSkipping line 528386: expected 10 fields, saw 11\\nSkipping line 529186: expected 10 fields, saw 11\\nSkipping line 530543: expected 10 fields, saw 11\\nSkipping line 534553: expected 10 fields, saw 11\\nSkipping line 535421: expected 10 fields, saw 11\\nSkipping line 535473: expected 10 fields, saw 11\\nSkipping line 535527: expected 10 fields, saw 11\\nSkipping line 535538: expected 10 fields, saw 11\\nSkipping line 535700: expected 10 fields, saw 11\\nSkipping line 536476: expected 10 fields, saw 11\\nSkipping line 536500: expected 10 fields, saw 11\\nSkipping line 536512: expected 10 fields, saw 11\\nSkipping line 536858: expected 10 fields, saw 11\\nSkipping line 541200: expected 10 fields, saw 11\\nSkipping line 541274: expected 10 fields, saw 11\\nSkipping line 541701: expected 10 fields, saw 11\\nSkipping line 542165: expected 10 fields, saw 11\\nSkipping line 542201: expected 10 fields, saw 11\\nSkipping line 542234: expected 10 fields, saw 11\\nSkipping line 542266: expected 10 fields, saw 11\\nSkipping line 542326: expected 10 fields, saw 11\\nSkipping line 545519: expected 10 fields, saw 11\\nSkipping line 545598: expected 10 fields, saw 11\\nSkipping line 546023: expected 10 fields, saw 11\\nSkipping line 551916: expected 10 fields, saw 11\\nSkipping line 553847: expected 10 fields, saw 11\\nSkipping line 554522: expected 10 fields, saw 11\\nSkipping line 558199: expected 10 fields, saw 11\\nSkipping line 558294: expected 10 fields, saw 11\\nSkipping line 558312: expected 10 fields, saw 11\\nSkipping line 558417: expected 10 fields, saw 11\\nSkipping line 558460: expected 10 fields, saw 11\\nSkipping line 559110: expected 10 fields, saw 11\\nSkipping line 559482: expected 10 fields, saw 11\\nSkipping line 559609: expected 10 fields, saw 11\\nSkipping line 559624: expected 10 fields, saw 11\\nSkipping line 565515: expected 10 fields, saw 11\\nSkipping line 568757: expected 10 fields, saw 11\\nSkipping line 568878: expected 10 fields, saw 11\\nSkipping line 569396: expected 10 fields, saw 11\\nSkipping line 569695: expected 10 fields, saw 11\\nSkipping line 570074: expected 10 fields, saw 11\\nSkipping line 570319: expected 10 fields, saw 11\\nSkipping line 574705: expected 10 fields, saw 11\\nSkipping line 574841: expected 10 fields, saw 11\\nSkipping line 575455: expected 10 fields, saw 11\\nSkipping line 575496: expected 10 fields, saw 11\\nSkipping line 576459: expected 10 fields, saw 11\\nSkipping line 577276: expected 10 fields, saw 11\\nSkipping line 577542: expected 10 fields, saw 11\\nSkipping line 577944: expected 10 fields, saw 11\\nSkipping line 579134: expected 10 fields, saw 11\\nSkipping line 580733: expected 10 fields, saw 11\\nSkipping line 581091: expected 10 fields, saw 11\\nSkipping line 581297: expected 10 fields, saw 11\\nSkipping line 582300: expected 10 fields, saw 11\\nSkipping line 582898: expected 10 fields, saw 11\\nSkipping line 582963: expected 10 fields, saw 11\\nSkipping line 583790: expected 10 fields, saw 11\\nSkipping line 584225: expected 10 fields, saw 11\\nSkipping line 585357: expected 10 fields, saw 11\\nSkipping line 585667: expected 10 fields, saw 11\\nSkipping line 585821: expected 10 fields, saw 11\\nSkipping line 585868: expected 10 fields, saw 11\\nSkipping line 588641: expected 10 fields, saw 11\\nSkipping line 588685: expected 10 fields, saw 11\\n'\n",
      "b'Skipping line 597630: expected 10 fields, saw 11\\nSkipping line 598505: expected 10 fields, saw 11\\nSkipping line 598956: expected 10 fields, saw 11\\nSkipping line 600814: expected 10 fields, saw 11\\nSkipping line 603311: expected 10 fields, saw 11\\nSkipping line 604112: expected 10 fields, saw 11\\nSkipping line 604162: expected 10 fields, saw 11\\nSkipping line 604462: expected 10 fields, saw 11\\nSkipping line 604585: expected 10 fields, saw 11\\nSkipping line 604815: expected 10 fields, saw 11\\nSkipping line 605306: expected 10 fields, saw 11\\nSkipping line 605358: expected 10 fields, saw 11\\nSkipping line 605585: expected 10 fields, saw 11\\nSkipping line 605603: expected 10 fields, saw 11\\nSkipping line 605763: expected 10 fields, saw 11\\nSkipping line 606026: expected 10 fields, saw 11\\nSkipping line 606293: expected 10 fields, saw 11\\nSkipping line 606399: expected 10 fields, saw 11\\nSkipping line 606856: expected 10 fields, saw 11\\nSkipping line 607590: expected 10 fields, saw 11\\nSkipping line 607924: expected 10 fields, saw 11\\nSkipping line 608456: expected 10 fields, saw 11\\nSkipping line 609146: expected 10 fields, saw 11\\nSkipping line 609355: expected 10 fields, saw 11\\nSkipping line 609509: expected 10 fields, saw 11\\nSkipping line 609637: expected 10 fields, saw 11\\nSkipping line 617902: expected 10 fields, saw 11\\nSkipping line 618226: expected 10 fields, saw 11\\nSkipping line 619565: expected 10 fields, saw 11\\nSkipping line 619952: expected 10 fields, saw 11\\nSkipping line 620082: expected 10 fields, saw 11\\nSkipping line 620102: expected 10 fields, saw 11\\nSkipping line 620358: expected 10 fields, saw 11\\nSkipping line 620375: expected 10 fields, saw 11\\nSkipping line 622067: expected 10 fields, saw 11\\nSkipping line 622353: expected 10 fields, saw 11\\nSkipping line 622518: expected 10 fields, saw 11\\nSkipping line 624603: expected 10 fields, saw 11\\nSkipping line 624801: expected 10 fields, saw 11\\nSkipping line 625364: expected 10 fields, saw 11\\nSkipping line 625427: expected 10 fields, saw 11\\nSkipping line 625846: expected 10 fields, saw 11\\nSkipping line 625889: expected 10 fields, saw 11\\nSkipping line 626066: expected 10 fields, saw 11\\nSkipping line 626343: expected 10 fields, saw 11\\nSkipping line 626602: expected 10 fields, saw 11\\nSkipping line 626648: expected 10 fields, saw 11\\nSkipping line 626678: expected 10 fields, saw 11\\nSkipping line 627089: expected 10 fields, saw 11\\nSkipping line 627601: expected 10 fields, saw 11\\nSkipping line 627941: expected 10 fields, saw 11\\nSkipping line 628296: expected 10 fields, saw 11\\nSkipping line 628788: expected 10 fields, saw 11\\nSkipping line 628904: expected 10 fields, saw 11\\nSkipping line 629646: expected 10 fields, saw 11\\nSkipping line 630053: expected 10 fields, saw 11\\nSkipping line 630287: expected 10 fields, saw 11\\nSkipping line 630895: expected 10 fields, saw 11\\nSkipping line 631315: expected 10 fields, saw 11\\nSkipping line 631339: expected 10 fields, saw 11\\n'\n",
      "b'Skipping line 690775: expected 10 fields, saw 11\\n'\n",
      "b'Skipping line 729400: expected 10 fields, saw 11\\nSkipping line 729669: expected 10 fields, saw 11\\nSkipping line 729799: expected 10 fields, saw 11\\nSkipping line 730118: expected 10 fields, saw 11\\nSkipping line 738759: expected 10 fields, saw 11\\nSkipping line 740085: expected 10 fields, saw 11\\nSkipping line 740797: expected 10 fields, saw 11\\nSkipping line 741299: expected 10 fields, saw 11\\nSkipping line 741307: expected 10 fields, saw 11\\nSkipping line 752904: expected 10 fields, saw 11\\nSkipping line 758883: expected 10 fields, saw 11\\nSkipping line 761012: expected 10 fields, saw 11\\nSkipping line 761036: expected 10 fields, saw 11\\nSkipping line 761692: expected 10 fields, saw 11\\nSkipping line 762035: expected 10 fields, saw 11\\nSkipping line 762970: expected 10 fields, saw 11\\nSkipping line 763062: expected 10 fields, saw 11\\nSkipping line 763529: expected 10 fields, saw 11\\nSkipping line 764520: expected 10 fields, saw 11\\nSkipping line 764623: expected 10 fields, saw 11\\nSkipping line 767701: expected 10 fields, saw 11\\nSkipping line 767875: expected 10 fields, saw 11\\nSkipping line 768570: expected 10 fields, saw 11\\nSkipping line 772152: expected 10 fields, saw 11\\nSkipping line 772522: expected 10 fields, saw 11\\nSkipping line 776752: expected 10 fields, saw 11\\nSkipping line 776881: expected 10 fields, saw 11\\nSkipping line 778452: expected 10 fields, saw 11\\nSkipping line 778497: expected 10 fields, saw 11\\nSkipping line 780768: expected 10 fields, saw 11\\nSkipping line 781264: expected 10 fields, saw 11\\nSkipping line 781388: expected 10 fields, saw 11\\nSkipping line 784402: expected 10 fields, saw 11\\n'\n",
      "b'Skipping line 795929: expected 10 fields, saw 11\\nSkipping line 796657: expected 10 fields, saw 11\\nSkipping line 796687: expected 10 fields, saw 11\\nSkipping line 796888: expected 10 fields, saw 11\\nSkipping line 808365: expected 10 fields, saw 11\\nSkipping line 809121: expected 10 fields, saw 11\\nSkipping line 809352: expected 10 fields, saw 11\\nSkipping line 810903: expected 10 fields, saw 11\\nSkipping line 812172: expected 10 fields, saw 11\\nSkipping line 816687: expected 10 fields, saw 11\\nSkipping line 819811: expected 10 fields, saw 11\\nSkipping line 819928: expected 10 fields, saw 11\\nSkipping line 826890: expected 10 fields, saw 11\\nSkipping line 827016: expected 10 fields, saw 11\\nSkipping line 830667: expected 10 fields, saw 11\\nSkipping line 834955: expected 10 fields, saw 11\\nSkipping line 838827: expected 10 fields, saw 11\\nSkipping line 843517: expected 10 fields, saw 11\\nSkipping line 843924: expected 10 fields, saw 11\\nSkipping line 843995: expected 10 fields, saw 11\\nSkipping line 845383: expected 10 fields, saw 11\\nSkipping line 846183: expected 10 fields, saw 11\\nSkipping line 847359: expected 10 fields, saw 11\\nSkipping line 847595: expected 10 fields, saw 11\\nSkipping line 848216: expected 10 fields, saw 11\\nSkipping line 849531: expected 10 fields, saw 11\\nSkipping line 849857: expected 10 fields, saw 11\\nSkipping line 850179: expected 10 fields, saw 11\\nSkipping line 851616: expected 10 fields, saw 11\\n'\n",
      "b'Skipping line 856648: expected 10 fields, saw 11\\nSkipping line 857150: expected 10 fields, saw 11\\nSkipping line 857199: expected 10 fields, saw 11\\nSkipping line 857470: expected 10 fields, saw 11\\nSkipping line 857575: expected 10 fields, saw 11\\nSkipping line 857684: expected 10 fields, saw 11\\nSkipping line 858103: expected 10 fields, saw 11\\nSkipping line 858208: expected 10 fields, saw 11\\nSkipping line 858754: expected 10 fields, saw 11\\nSkipping line 858846: expected 10 fields, saw 11\\nSkipping line 858932: expected 10 fields, saw 11\\nSkipping line 859027: expected 10 fields, saw 11\\nSkipping line 859566: expected 10 fields, saw 11\\nSkipping line 860824: expected 10 fields, saw 11\\nSkipping line 861433: expected 10 fields, saw 11\\nSkipping line 861561: expected 10 fields, saw 11\\nSkipping line 861656: expected 10 fields, saw 11\\nSkipping line 861672: expected 10 fields, saw 11\\nSkipping line 861872: expected 10 fields, saw 11\\nSkipping line 861885: expected 10 fields, saw 11\\nSkipping line 864108: expected 10 fields, saw 11\\nSkipping line 864500: expected 10 fields, saw 11\\nSkipping line 871448: expected 10 fields, saw 11\\nSkipping line 872098: expected 10 fields, saw 11\\nSkipping line 872383: expected 10 fields, saw 11\\nSkipping line 872716: expected 10 fields, saw 11\\nSkipping line 873923: expected 10 fields, saw 11\\nSkipping line 874057: expected 10 fields, saw 11\\nSkipping line 874061: expected 10 fields, saw 11\\nSkipping line 874150: expected 10 fields, saw 11\\nSkipping line 877690: expected 10 fields, saw 11\\nSkipping line 877950: expected 10 fields, saw 11\\nSkipping line 878239: expected 10 fields, saw 11\\nSkipping line 878313: expected 10 fields, saw 11\\nSkipping line 878629: expected 10 fields, saw 11\\nSkipping line 878782: expected 10 fields, saw 11\\nSkipping line 878831: expected 10 fields, saw 11\\nSkipping line 879216: expected 10 fields, saw 11\\nSkipping line 879493: expected 10 fields, saw 11\\nSkipping line 879759: expected 10 fields, saw 11\\nSkipping line 880721: expected 10 fields, saw 11\\nSkipping line 880758: expected 10 fields, saw 11\\nSkipping line 880807: expected 10 fields, saw 11\\nSkipping line 881147: expected 10 fields, saw 11\\nSkipping line 881243: expected 10 fields, saw 11\\nSkipping line 881611: expected 10 fields, saw 11\\nSkipping line 881756: expected 10 fields, saw 11\\nSkipping line 881836: expected 10 fields, saw 11\\nSkipping line 882425: expected 10 fields, saw 11\\nSkipping line 884689: expected 10 fields, saw 11\\nSkipping line 884931: expected 10 fields, saw 11\\nSkipping line 885079: expected 10 fields, saw 11\\nSkipping line 885141: expected 10 fields, saw 11\\nSkipping line 885207: expected 10 fields, saw 11\\nSkipping line 885294: expected 10 fields, saw 11\\nSkipping line 885710: expected 10 fields, saw 11\\nSkipping line 885849: expected 10 fields, saw 11\\nSkipping line 885897: expected 10 fields, saw 11\\nSkipping line 890611: expected 10 fields, saw 11\\nSkipping line 891485: expected 10 fields, saw 11\\nSkipping line 891571: expected 10 fields, saw 11\\nSkipping line 891809: expected 10 fields, saw 11\\nSkipping line 892019: expected 10 fields, saw 11\\nSkipping line 892788: expected 10 fields, saw 11\\nSkipping line 894538: expected 10 fields, saw 11\\nSkipping line 894900: expected 10 fields, saw 11\\nSkipping line 895154: expected 10 fields, saw 11\\nSkipping line 895598: expected 10 fields, saw 11\\nSkipping line 896166: expected 10 fields, saw 11\\nSkipping line 896240: expected 10 fields, saw 11\\nSkipping line 896720: expected 10 fields, saw 11\\nSkipping line 897263: expected 10 fields, saw 11\\nSkipping line 897335: expected 10 fields, saw 11\\nSkipping line 897402: expected 10 fields, saw 11\\nSkipping line 897564: expected 10 fields, saw 11\\nSkipping line 897714: expected 10 fields, saw 11\\nSkipping line 898006: expected 10 fields, saw 11\\nSkipping line 898624: expected 10 fields, saw 11\\nSkipping line 898697: expected 10 fields, saw 11\\nSkipping line 898740: expected 10 fields, saw 11\\nSkipping line 898754: expected 10 fields, saw 11\\nSkipping line 899057: expected 10 fields, saw 11\\nSkipping line 899080: expected 10 fields, saw 11\\nSkipping line 899172: expected 10 fields, saw 11\\nSkipping line 899263: expected 10 fields, saw 11\\nSkipping line 899524: expected 10 fields, saw 11\\nSkipping line 899964: expected 10 fields, saw 11\\nSkipping line 900117: expected 10 fields, saw 11\\nSkipping line 900518: expected 10 fields, saw 11\\nSkipping line 900785: expected 10 fields, saw 11\\nSkipping line 900947: expected 10 fields, saw 11\\nSkipping line 901055: expected 10 fields, saw 11\\nSkipping line 901279: expected 10 fields, saw 11\\nSkipping line 901310: expected 10 fields, saw 11\\nSkipping line 901593: expected 10 fields, saw 11\\nSkipping line 902068: expected 10 fields, saw 11\\nSkipping line 902522: expected 10 fields, saw 11\\nSkipping line 902764: expected 10 fields, saw 11\\nSkipping line 902850: expected 10 fields, saw 11\\nSkipping line 902887: expected 10 fields, saw 11\\nSkipping line 903544: expected 10 fields, saw 11\\nSkipping line 904063: expected 10 fields, saw 11\\nSkipping line 904109: expected 10 fields, saw 11\\nSkipping line 904165: expected 10 fields, saw 11\\nSkipping line 905792: expected 10 fields, saw 11\\nSkipping line 905954: expected 10 fields, saw 11\\nSkipping line 907128: expected 10 fields, saw 11\\nSkipping line 907179: expected 10 fields, saw 11\\n'\n",
      "b'Skipping line 927366: expected 10 fields, saw 11\\nSkipping line 930808: expected 10 fields, saw 11\\nSkipping line 931480: expected 10 fields, saw 11\\nSkipping line 931696: expected 10 fields, saw 11\\nSkipping line 932267: expected 10 fields, saw 11\\nSkipping line 937652: expected 10 fields, saw 11\\nSkipping line 937914: expected 10 fields, saw 11\\nSkipping line 938001: expected 10 fields, saw 11\\nSkipping line 945593: expected 10 fields, saw 11\\nSkipping line 945601: expected 10 fields, saw 11\\nSkipping line 945716: expected 10 fields, saw 11\\nSkipping line 945733: expected 10 fields, saw 11\\nSkipping line 946837: expected 10 fields, saw 11\\nSkipping line 947938: expected 10 fields, saw 11\\nSkipping line 948003: expected 10 fields, saw 11\\nSkipping line 948097: expected 10 fields, saw 11\\nSkipping line 949498: expected 10 fields, saw 11\\nSkipping line 953190: expected 10 fields, saw 11\\nSkipping line 953422: expected 10 fields, saw 11\\nSkipping line 953697: expected 10 fields, saw 11\\nSkipping line 954622: expected 10 fields, saw 11\\nSkipping line 954694: expected 10 fields, saw 11\\nSkipping line 956510: expected 10 fields, saw 11\\nSkipping line 956625: expected 10 fields, saw 11\\nSkipping line 957439: expected 10 fields, saw 11\\nSkipping line 957624: expected 10 fields, saw 11\\nSkipping line 958255: expected 10 fields, saw 11\\nSkipping line 958956: expected 10 fields, saw 11\\nSkipping line 959100: expected 10 fields, saw 11\\nSkipping line 959678: expected 10 fields, saw 11\\nSkipping line 960947: expected 10 fields, saw 11\\nSkipping line 961309: expected 10 fields, saw 11\\nSkipping line 962825: expected 10 fields, saw 11\\nSkipping line 967284: expected 10 fields, saw 11\\nSkipping line 972442: expected 10 fields, saw 11\\nSkipping line 973432: expected 10 fields, saw 11\\nSkipping line 981030: expected 10 fields, saw 11\\n'\n",
      "b'Skipping line 989595: expected 10 fields, saw 11\\nSkipping line 998275: expected 10 fields, saw 11\\nSkipping line 998563: expected 10 fields, saw 11\\nSkipping line 999773: expected 10 fields, saw 11\\nSkipping line 999791: expected 10 fields, saw 11\\nSkipping line 1003697: expected 10 fields, saw 11\\nSkipping line 1003880: expected 10 fields, saw 11\\nSkipping line 1005533: expected 10 fields, saw 11\\nSkipping line 1012243: expected 10 fields, saw 11\\nSkipping line 1012563: expected 10 fields, saw 11\\nSkipping line 1013676: expected 10 fields, saw 11\\nSkipping line 1017137: expected 10 fields, saw 11\\nSkipping line 1017266: expected 10 fields, saw 11\\nSkipping line 1017963: expected 10 fields, saw 11\\nSkipping line 1018473: expected 10 fields, saw 11\\nSkipping line 1018482: expected 10 fields, saw 11\\nSkipping line 1018533: expected 10 fields, saw 11\\nSkipping line 1018746: expected 10 fields, saw 11\\nSkipping line 1019079: expected 10 fields, saw 11\\nSkipping line 1019172: expected 10 fields, saw 11\\nSkipping line 1019350: expected 10 fields, saw 11\\nSkipping line 1019709: expected 10 fields, saw 11\\nSkipping line 1020616: expected 10 fields, saw 11\\nSkipping line 1021592: expected 10 fields, saw 11\\nSkipping line 1022867: expected 10 fields, saw 11\\nSkipping line 1022943: expected 10 fields, saw 11\\nSkipping line 1023558: expected 10 fields, saw 11\\nSkipping line 1027918: expected 10 fields, saw 11\\nSkipping line 1029211: expected 10 fields, saw 11\\nSkipping line 1032497: expected 10 fields, saw 11\\nSkipping line 1032553: expected 10 fields, saw 11\\nSkipping line 1033691: expected 10 fields, saw 11\\nSkipping line 1034684: expected 10 fields, saw 11\\nSkipping line 1036130: expected 10 fields, saw 11\\nSkipping line 1036310: expected 10 fields, saw 11\\nSkipping line 1036408: expected 10 fields, saw 11\\nSkipping line 1036807: expected 10 fields, saw 11\\nSkipping line 1037117: expected 10 fields, saw 11\\nSkipping line 1037242: expected 10 fields, saw 11\\nSkipping line 1038137: expected 10 fields, saw 11\\nSkipping line 1038352: expected 10 fields, saw 11\\nSkipping line 1039046: expected 10 fields, saw 11\\n'\n"
     ]
    },
    {
     "name": "stderr",
     "output_type": "stream",
     "text": [
      "b'Skipping line 1049668: expected 10 fields, saw 11\\nSkipping line 1051291: expected 10 fields, saw 11\\nSkipping line 1051349: expected 10 fields, saw 11\\nSkipping line 1051804: expected 10 fields, saw 11\\nSkipping line 1051832: expected 10 fields, saw 11\\nSkipping line 1054502: expected 10 fields, saw 11\\nSkipping line 1054641: expected 10 fields, saw 11\\nSkipping line 1055149: expected 10 fields, saw 11\\nSkipping line 1055234: expected 10 fields, saw 11\\nSkipping line 1056398: expected 10 fields, saw 11\\nSkipping line 1056724: expected 10 fields, saw 11\\nSkipping line 1060285: expected 10 fields, saw 11\\nSkipping line 1060519: expected 10 fields, saw 11\\nSkipping line 1060868: expected 10 fields, saw 11\\nSkipping line 1061744: expected 10 fields, saw 11\\nSkipping line 1064931: expected 10 fields, saw 11\\nSkipping line 1065056: expected 10 fields, saw 11\\nSkipping line 1066142: expected 10 fields, saw 11\\nSkipping line 1067064: expected 10 fields, saw 11\\nSkipping line 1067188: expected 10 fields, saw 11\\nSkipping line 1067343: expected 10 fields, saw 11\\nSkipping line 1067452: expected 10 fields, saw 11\\nSkipping line 1068435: expected 10 fields, saw 11\\nSkipping line 1068948: expected 10 fields, saw 11\\nSkipping line 1069168: expected 10 fields, saw 11\\nSkipping line 1069385: expected 10 fields, saw 11\\nSkipping line 1069448: expected 10 fields, saw 11\\nSkipping line 1069525: expected 10 fields, saw 11\\nSkipping line 1069920: expected 10 fields, saw 11\\nSkipping line 1070059: expected 10 fields, saw 11\\nSkipping line 1070464: expected 10 fields, saw 11\\nSkipping line 1071158: expected 10 fields, saw 11\\nSkipping line 1071384: expected 10 fields, saw 11\\nSkipping line 1071989: expected 10 fields, saw 11\\nSkipping line 1072137: expected 10 fields, saw 11\\nSkipping line 1072412: expected 10 fields, saw 11\\nSkipping line 1072751: expected 10 fields, saw 11\\nSkipping line 1072804: expected 10 fields, saw 11\\nSkipping line 1072822: expected 10 fields, saw 11\\nSkipping line 1074142: expected 10 fields, saw 11\\nSkipping line 1074676: expected 10 fields, saw 11\\nSkipping line 1076564: expected 10 fields, saw 11\\nSkipping line 1077198: expected 10 fields, saw 11\\nSkipping line 1078032: expected 10 fields, saw 11\\nSkipping line 1079517: expected 10 fields, saw 11\\n'\n"
     ]
    }
   ],
   "source": [
    "df = pd.read_csv('data/monthly_salary_brazil.csv', error_bad_lines=False)"
   ]
  },
  {
   "cell_type": "code",
   "execution_count": null,
   "metadata": {},
   "outputs": [],
   "source": [
    "df.head()"
   ]
  },
  {
   "cell_type": "code",
   "execution_count": null,
   "metadata": {},
   "outputs": [],
   "source": [
    "print(df.shape)"
   ]
  },
  {
   "cell_type": "code",
   "execution_count": null,
   "metadata": {},
   "outputs": [],
   "source": [
    "print(df.columns)"
   ]
  },
  {
   "cell_type": "code",
   "execution_count": null,
   "metadata": {},
   "outputs": [],
   "source": [
    "print(df.info())"
   ]
  },
  {
   "cell_type": "code",
   "execution_count": null,
   "metadata": {},
   "outputs": [],
   "source": [
    "df.describe()"
   ]
  },
  {
   "cell_type": "code",
   "execution_count": null,
   "metadata": {},
   "outputs": [],
   "source": [
    "df.describe(include=['object', 'bool'])"
   ]
  },
  {
   "cell_type": "code",
   "execution_count": null,
   "metadata": {},
   "outputs": [],
   "source": [
    "df['sector'].value_counts()\n",
    "\n",
    "df['sector'].value_counts(normalize=True)"
   ]
  },
  {
   "cell_type": "code",
   "execution_count": null,
   "metadata": {},
   "outputs": [],
   "source": [
    "df.sort_values(by='Month_salary', \n",
    "        ascending=False).head()"
   ]
  },
  {
   "cell_type": "code",
   "execution_count": null,
   "metadata": {},
   "outputs": [],
   "source": [
    "df['Month_salary'].mean()"
   ]
  },
  {
   "cell_type": "code",
   "execution_count": 3,
   "metadata": {},
   "outputs": [
    {
     "data": {
      "text/html": [
       "<div>\n",
       "<style scoped>\n",
       "    .dataframe tbody tr th:only-of-type {\n",
       "        vertical-align: middle;\n",
       "    }\n",
       "\n",
       "    .dataframe tbody tr th {\n",
       "        vertical-align: top;\n",
       "    }\n",
       "\n",
       "    .dataframe thead th {\n",
       "        text-align: right;\n",
       "    }\n",
       "</style>\n",
       "<table border=\"1\" class=\"dataframe\">\n",
       "  <thead>\n",
       "    <tr style=\"text-align: right;\">\n",
       "      <th></th>\n",
       "      <th>Id</th>\n",
       "      <th>job</th>\n",
       "      <th>sector</th>\n",
       "      <th>Month_salary</th>\n",
       "      <th>13_salary</th>\n",
       "      <th>eventual_salary</th>\n",
       "      <th>indemnity</th>\n",
       "      <th>extra_salary</th>\n",
       "      <th>discount_salary</th>\n",
       "      <th>total_salary</th>\n",
       "    </tr>\n",
       "  </thead>\n",
       "  <tbody>\n",
       "    <tr>\n",
       "      <th>1084756</th>\n",
       "      <td>1085676</td>\n",
       "      <td>AGENTE DE SERVICOS ESCOLARES</td>\n",
       "      <td>SPPREV</td>\n",
       "      <td>1887.26</td>\n",
       "      <td>0.0</td>\n",
       "      <td>0.0</td>\n",
       "      <td>0.0</td>\n",
       "      <td>0.0</td>\n",
       "      <td>0.0</td>\n",
       "      <td>1424.29</td>\n",
       "    </tr>\n",
       "    <tr>\n",
       "      <th>1084757</th>\n",
       "      <td>1085677</td>\n",
       "      <td>CHEFE I</td>\n",
       "      <td>SPPREV</td>\n",
       "      <td>2382.76</td>\n",
       "      <td>0.0</td>\n",
       "      <td>0.0</td>\n",
       "      <td>0.0</td>\n",
       "      <td>0.0</td>\n",
       "      <td>0.0</td>\n",
       "      <td>2286.20</td>\n",
       "    </tr>\n",
       "    <tr>\n",
       "      <th>1084758</th>\n",
       "      <td>1085678</td>\n",
       "      <td>BENEFICIARIO DE SERVIDOR ESTADUAL-IPESP</td>\n",
       "      <td>SPPREV</td>\n",
       "      <td>11322.99</td>\n",
       "      <td>0.0</td>\n",
       "      <td>0.0</td>\n",
       "      <td>0.0</td>\n",
       "      <td>0.0</td>\n",
       "      <td>0.0</td>\n",
       "      <td>9027.02</td>\n",
       "    </tr>\n",
       "  </tbody>\n",
       "</table>\n",
       "</div>"
      ],
      "text/plain": [
       "              Id                                      job  sector  \\\n",
       "1084756  1085676             AGENTE DE SERVICOS ESCOLARES  SPPREV   \n",
       "1084757  1085677                                  CHEFE I  SPPREV   \n",
       "1084758  1085678  BENEFICIARIO DE SERVIDOR ESTADUAL-IPESP  SPPREV   \n",
       "\n",
       "         Month_salary  13_salary  eventual_salary  indemnity  extra_salary  \\\n",
       "1084756       1887.26        0.0              0.0        0.0           0.0   \n",
       "1084757       2382.76        0.0              0.0        0.0           0.0   \n",
       "1084758      11322.99        0.0              0.0        0.0           0.0   \n",
       "\n",
       "         discount_salary  total_salary  \n",
       "1084756              0.0       1424.29  \n",
       "1084757              0.0       2286.20  \n",
       "1084758              0.0       9027.02  "
      ]
     },
     "execution_count": 3,
     "metadata": {},
     "output_type": "execute_result"
    }
   ],
   "source": [
    "df[-3:]"
   ]
  },
  {
   "cell_type": "code",
   "execution_count": null,
   "metadata": {},
   "outputs": [],
   "source": []
  }
 ],
 "metadata": {
  "kernelspec": {
   "display_name": "Python 3",
   "language": "python",
   "name": "python3"
  },
  "language_info": {
   "codemirror_mode": {
    "name": "ipython",
    "version": 3
   },
   "file_extension": ".py",
   "mimetype": "text/x-python",
   "name": "python",
   "nbconvert_exporter": "python",
   "pygments_lexer": "ipython3",
   "version": "3.7.2"
  }
 },
 "nbformat": 4,
 "nbformat_minor": 2
}
